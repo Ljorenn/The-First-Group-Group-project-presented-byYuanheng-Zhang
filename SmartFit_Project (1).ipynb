{
 "cells": [
  {
   "cell_type": "code",
   "execution_count": 66,
   "id": "ded08d4b",
   "metadata": {
    "ExecuteTime": {
     "end_time": "2024-12-08T11:07:33.884008Z",
     "start_time": "2024-12-08T11:07:33.866130Z"
    }
   },
   "outputs": [
    {
     "name": "stdout",
     "output_type": "stream",
     "text": [
      "Preprocessing completed, the file has been overwritten: SmartFitCustomerData.csv\n"
     ]
    }
   ],
   "source": [
    "import pandas as pd\n",
    "# To avoid missing data, we conduct Data Preprocessing\n",
    "\n",
    "df = pd.read_csv('SmartFitCustomerData.csv')\n",
    "\n",
    "for col in df.columns:\n",
    "    df[col].fillna(df[col].mean() if df[col].dtype in ['float64', 'int64'] else df[col].mode()[0], inplace=True)\n",
    "\n",
    "df.to_csv('SmartFitCustomerData.csv', index=False)\n",
    "\n",
    "print(\"Preprocessing completed, the file has been overwritten: SmartFitCustomerData.csv\")\n"
   ]
  },
  {
   "cell_type": "code",
   "execution_count": 67,
   "id": "e4e4a263",
   "metadata": {
    "ExecuteTime": {
     "end_time": "2024-12-08T11:07:33.891102Z",
     "start_time": "2024-12-08T11:07:33.886090Z"
    }
   },
   "outputs": [],
   "source": [
    "df = pd.read_csv('SmartFitCustomerData.csv')\n",
    "answers = {}"
   ]
  },
  {
   "cell_type": "code",
   "execution_count": 68,
   "id": "ad227f37",
   "metadata": {
    "ExecuteTime": {
     "end_time": "2024-12-08T11:07:33.896461Z",
     "start_time": "2024-12-08T11:07:33.892684Z"
    }
   },
   "outputs": [],
   "source": [
    "# Question 1: How many rows are there in the dataset?\n",
    "answers[\"1\"] = len(df)"
   ]
  },
  {
   "cell_type": "code",
   "execution_count": 69,
   "id": "7ee753ba",
   "metadata": {
    "ExecuteTime": {
     "end_time": "2024-12-08T11:07:33.905300Z",
     "start_time": "2024-12-08T11:07:33.898022Z"
    }
   },
   "outputs": [],
   "source": [
    "# Question 2: How many distinct types of fitness products are available in the dataset?\n",
    "# Using list comprehensive\n",
    "product_types = [item for item in df['ProductType']]\n",
    "unique_product_types = set(product_types)\n",
    "number_of_unique_products = len(unique_product_types)\n",
    "answers[\"2\"] = number_of_unique_products\n"
   ]
  },
  {
   "cell_type": "code",
   "execution_count": 70,
   "id": "40606f4b",
   "metadata": {
    "ExecuteTime": {
     "end_time": "2024-12-08T11:07:33.914207Z",
     "start_time": "2024-12-08T11:07:33.908346Z"
    }
   },
   "outputs": [],
   "source": [
    "# Question 3: What is the largest age difference among the customers (i.e., maximum age - minimum age)?\n",
    "answers[\"3\"] = df['Age'].max() - df['Age'].min()\n"
   ]
  },
  {
   "cell_type": "code",
   "execution_count": 71,
   "id": "a427726b",
   "metadata": {
    "ExecuteTime": {
     "end_time": "2024-12-08T11:07:33.924765Z",
     "start_time": "2024-12-08T11:07:33.915797Z"
    }
   },
   "outputs": [],
   "source": [
    "# Question 4: What is the ratio of female customers to male customers in the dataset?\n",
    "\n",
    "# Using Comprehension\n",
    "female_count = 0\n",
    "male_count = 0\n",
    "\n",
    "female_count = sum(1 for gender in df['Gender'] if gender == 'Female')\n",
    "male_count = sum(1 for gender in df['Gender'] if gender == 'Male')\n",
    "\n",
    "ratio = female_count / male_count if male_count > 0 else 0\n",
    "\n",
    "answers[\"4\"] = ratio"
   ]
  },
  {
   "cell_type": "code",
   "execution_count": 72,
   "id": "81d4882a",
   "metadata": {
    "ExecuteTime": {
     "end_time": "2024-12-08T11:07:33.936247Z",
     "start_time": "2024-12-08T11:07:33.926326Z"
    }
   },
   "outputs": [],
   "source": [
    "# Question 5: What is the median number of years of education completed by customers?\n",
    "answers[\"5\"] = df['EducationLevel'].median()\n",
    "#From .max() & .min(), we can deduce that to get the median, we can use .median()"
   ]
  },
  {
   "cell_type": "code",
   "execution_count": 73,
   "id": "d53a75ff",
   "metadata": {
    "ExecuteTime": {
     "end_time": "2024-12-08T11:07:33.943588Z",
     "start_time": "2024-12-08T11:07:33.937824Z"
    }
   },
   "outputs": [],
   "source": [
    "# Question 6: How many customers are classified as 'Not Single' (i.e., customers who are either married or divorced)?\n",
    "# Using list comprehension\n",
    "not_single_count = 0\n",
    "\n",
    "not_single_count = sum(1 for status in df['MaritalStatus'] if status in ['Married', 'Divorced'])\n",
    "\n",
    "answers[\"6\"] = not_single_count"
   ]
  },
  {
   "cell_type": "code",
   "execution_count": 74,
   "id": "e6170bef",
   "metadata": {
    "ExecuteTime": {
     "end_time": "2024-12-08T11:07:33.952410Z",
     "start_time": "2024-12-08T11:07:33.945901Z"
    }
   },
   "outputs": [],
   "source": [
    "# Question 7: What is the average number of days per week that customers use their fitness equipment?\n",
    "answers[\"7\"] = df['WeeklyUsage'].mean()\n"
   ]
  },
  {
   "cell_type": "code",
   "execution_count": 75,
   "id": "31f85903",
   "metadata": {
    "ExecuteTime": {
     "end_time": "2024-12-08T11:07:33.961261Z",
     "start_time": "2024-12-08T11:07:33.954536Z"
    }
   },
   "outputs": [],
   "source": [
    "# Question 8: What percentage of customers have rated themselves as being in the highest fitness level (FitnessLevel = 5)?\n",
    "answers[\"8\"] = (df['FitnessLevel']).sum() / len(df) * 100"
   ]
  },
  {
   "cell_type": "code",
   "execution_count": 76,
   "id": "651ac0f6",
   "metadata": {
    "ExecuteTime": {
     "end_time": "2024-12-08T11:07:33.969948Z",
     "start_time": "2024-12-08T11:07:33.962954Z"
    }
   },
   "outputs": [],
   "source": [
    "# Question 9: What is the highest annual income recorded in the dataset?\n",
    "answers[\"9\"] = df['AnnualIncome'].max()"
   ]
  },
  {
   "cell_type": "code",
   "execution_count": 77,
   "id": "b1bec52a",
   "metadata": {
    "ExecuteTime": {
     "end_time": "2024-12-08T11:07:33.978523Z",
     "start_time": "2024-12-08T11:07:33.971688Z"
    }
   },
   "outputs": [],
   "source": [
    "# Question 10: How many customers are expected to run more than 150 miles according to the dataset?\n",
    "# Assuming 10,000 steps per day is approximately equal to 5 miles\n",
    "miles_per_day = 5\n",
    "\n",
    "Customers_mile_per_day = (df['StepsPerDay'] / 10000) * miles_per_day\n",
    "\n",
    "answers[\"10\"] = ( Customers_mile_per_day > 150).sum()\n"
   ]
  },
  {
   "cell_type": "code",
   "execution_count": 78,
   "id": "49207607",
   "metadata": {
    "ExecuteTime": {
     "end_time": "2024-12-08T11:07:33.986922Z",
     "start_time": "2024-12-08T11:07:33.980465Z"
    }
   },
   "outputs": [
    {
     "name": "stdout",
     "output_type": "stream",
     "text": [
      "Question 1: 1000\n",
      "Question 2: 3\n",
      "Question 3: 52\n",
      "Question 4: 1.079002079002079\n",
      "Question 5: 16.0\n",
      "Question 6: 642\n",
      "Question 7: 4.143\n",
      "Question 8: 305.3\n",
      "Question 9: 119962\n",
      "Question 10: 0\n"
     ]
    }
   ],
   "source": [
    "# Display the results\n",
    "for question, answer in answers.items():\n",
    "    print(f\"Question {question}: {answer}\")"
   ]
  },
  {
   "cell_type": "code",
   "execution_count": null,
   "id": "7d11a479",
   "metadata": {},
   "outputs": [],
   "source": []
  },
  {
   "cell_type": "code",
   "execution_count": null,
   "id": "32f5055c",
   "metadata": {},
   "outputs": [],
   "source": []
  },
  {
   "cell_type": "code",
   "execution_count": null,
   "id": "a80330ef",
   "metadata": {},
   "outputs": [],
   "source": []
  }
 ],
 "metadata": {
  "kernelspec": {
   "display_name": "Python 3 (ipykernel)",
   "language": "python",
   "name": "python3"
  },
  "language_info": {
   "codemirror_mode": {
    "name": "ipython",
    "version": 3
   },
   "file_extension": ".py",
   "mimetype": "text/x-python",
   "name": "python",
   "nbconvert_exporter": "python",
   "pygments_lexer": "ipython3",
   "version": "3.8.10"
  },
  "latex_envs": {
   "LaTeX_envs_menu_present": true,
   "autoclose": false,
   "autocomplete": true,
   "bibliofile": "biblio.bib",
   "cite_by": "apalike",
   "current_citInitial": 1,
   "eqLabelWithNumbers": true,
   "eqNumInitial": 1,
   "hotkeys": {
    "equation": "Ctrl-E",
    "itemize": "Ctrl-I"
   },
   "labels_anchors": false,
   "latex_user_defs": false,
   "report_style_numbering": false,
   "user_envs_cfg": false
  },
  "toc": {
   "base_numbering": 1,
   "nav_menu": {},
   "number_sections": true,
   "sideBar": true,
   "skip_h1_title": false,
   "title_cell": "Table of Contents",
   "title_sidebar": "Contents",
   "toc_cell": false,
   "toc_position": {},
   "toc_section_display": true,
   "toc_window_display": false
  }
 },
 "nbformat": 4,
 "nbformat_minor": 5
}
